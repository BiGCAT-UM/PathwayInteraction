{
 "cells": [
  {
   "cell_type": "code",
   "execution_count": 2,
   "metadata": {},
   "outputs": [],
   "source": [
    "Sys.setenv(LANG = \"en\")\n",
    "options(warn=-1)\n",
    "# clear workspace\n",
    "# rm(list=ls())\n",
    "\n",
    "library(biomaRt)\n",
    "library(clusterProfiler)\n",
    "library(DOSE)\n",
    "library(dplyr)\n",
    "library(httr)\n",
    "library(igraph)\n",
    "library(illuminaHumanv4.db)\n",
    "library(limma)\n",
    "library(PKNCA)\n",
    "# library(rstudioapi)\n",
    "library(rWikiPathways)\n",
    "library(RCy3)\n",
    "library(SPARQL)\n",
    "library(stringr)\n",
    "library(tidyr)"
   ]
  },
  {
   "cell_type": "code",
   "execution_count": 3,
   "metadata": {},
   "outputs": [],
   "source": [
    "# directories to be used\n",
    "BASE_DIR <- file.path(getwd(), \"..\")\n",
    "DATA_DIR <- file.path(BASE_DIR, \"data\")\n",
    "R_DIR <- file.path(BASE_DIR, \"R\")"
   ]
  },
  {
   "cell_type": "code",
   "execution_count": 4,
   "metadata": {},
   "outputs": [],
   "source": [
    "# functions to be used\n",
    "source(file.path(R_DIR, \"functions.R\"))"
   ]
  },
  {
   "cell_type": "code",
   "execution_count": 5,
   "metadata": {},
   "outputs": [],
   "source": [
    "# loading gene expression data\n",
    "neuro_limma <- read.csv(file.path(DATA_DIR, \"neuro_limma.csv\"))\n",
    "nonneuro_limma <- read.csv(file.path(DATA_DIR, \"nonneuro_limma.csv\"))\n",
    "neuro_limma$entrez_id <- as.character(neuro_limma$entrez_id)\n",
    "nonneuro_limma$entrez_id <- as.character(nonneuro_limma$entrez_id)"
   ]
  },
  {
   "cell_type": "code",
   "execution_count": 6,
   "metadata": {},
   "outputs": [
    {
     "data": {
      "text/html": [
       "<table class=\"dataframe\">\n",
       "<caption>A data.frame: 3 × 10</caption>\n",
       "<thead>\n",
       "\t<tr><th></th><th scope=col>entrez_id</th><th scope=col>logFC</th><th scope=col>AveExpr</th><th scope=col>t</th><th scope=col>P.Value</th><th scope=col>adj.P.Val</th><th scope=col>B</th><th scope=col>ensembl_id</th><th scope=col>hgnc_symbol</th><th scope=col>weight</th></tr>\n",
       "\t<tr><th></th><th scope=col>&lt;chr&gt;</th><th scope=col>&lt;dbl&gt;</th><th scope=col>&lt;dbl&gt;</th><th scope=col>&lt;dbl&gt;</th><th scope=col>&lt;dbl&gt;</th><th scope=col>&lt;dbl&gt;</th><th scope=col>&lt;dbl&gt;</th><th scope=col>&lt;chr&gt;</th><th scope=col>&lt;chr&gt;</th><th scope=col>&lt;dbl&gt;</th></tr>\n",
       "</thead>\n",
       "<tbody>\n",
       "\t<tr><th scope=row>1</th><td>10  </td><td>-0.02629681</td><td>-0.01138144</td><td>-0.8271803</td><td>0.4103833</td><td>0.9999456</td><td>-5.420949</td><td>ENSG00000156006</td><td>NAT2</td><td>0.9872027</td></tr>\n",
       "\t<tr><th scope=row>2</th><td>100 </td><td> 0.01877344</td><td>-0.03663463</td><td> 0.2723318</td><td>0.7860080</td><td>0.9999456</td><td>-5.696260</td><td>ENSG00000196839</td><td>ADA </td><td>0.9957447</td></tr>\n",
       "\t<tr><th scope=row>3</th><td>1000</td><td> 0.03458245</td><td>-0.01009304</td><td> 0.7138777</td><td>0.4772012</td><td>0.9999456</td><td>-5.499530</td><td>ENSG00000170558</td><td>CDH2</td><td>0.9897710</td></tr>\n",
       "</tbody>\n",
       "</table>\n"
      ],
      "text/latex": [
       "A data.frame: 3 × 10\n",
       "\\begin{tabular}{r|llllllllll}\n",
       "  & entrez\\_id & logFC & AveExpr & t & P.Value & adj.P.Val & B & ensembl\\_id & hgnc\\_symbol & weight\\\\\n",
       "  & <chr> & <dbl> & <dbl> & <dbl> & <dbl> & <dbl> & <dbl> & <chr> & <chr> & <dbl>\\\\\n",
       "\\hline\n",
       "\t1 & 10   & -0.02629681 & -0.01138144 & -0.8271803 & 0.4103833 & 0.9999456 & -5.420949 & ENSG00000156006 & NAT2 & 0.9872027\\\\\n",
       "\t2 & 100  &  0.01877344 & -0.03663463 &  0.2723318 & 0.7860080 & 0.9999456 & -5.696260 & ENSG00000196839 & ADA  & 0.9957447\\\\\n",
       "\t3 & 1000 &  0.03458245 & -0.01009304 &  0.7138777 & 0.4772012 & 0.9999456 & -5.499530 & ENSG00000170558 & CDH2 & 0.9897710\\\\\n",
       "\\end{tabular}\n"
      ],
      "text/markdown": [
       "\n",
       "A data.frame: 3 × 10\n",
       "\n",
       "| <!--/--> | entrez_id &lt;chr&gt; | logFC &lt;dbl&gt; | AveExpr &lt;dbl&gt; | t &lt;dbl&gt; | P.Value &lt;dbl&gt; | adj.P.Val &lt;dbl&gt; | B &lt;dbl&gt; | ensembl_id &lt;chr&gt; | hgnc_symbol &lt;chr&gt; | weight &lt;dbl&gt; |\n",
       "|---|---|---|---|---|---|---|---|---|---|---|\n",
       "| 1 | 10   | -0.02629681 | -0.01138144 | -0.8271803 | 0.4103833 | 0.9999456 | -5.420949 | ENSG00000156006 | NAT2 | 0.9872027 |\n",
       "| 2 | 100  |  0.01877344 | -0.03663463 |  0.2723318 | 0.7860080 | 0.9999456 | -5.696260 | ENSG00000196839 | ADA  | 0.9957447 |\n",
       "| 3 | 1000 |  0.03458245 | -0.01009304 |  0.7138777 | 0.4772012 | 0.9999456 | -5.499530 | ENSG00000170558 | CDH2 | 0.9897710 |\n",
       "\n"
      ],
      "text/plain": [
       "  entrez_id logFC       AveExpr     t          P.Value   adj.P.Val B        \n",
       "1 10        -0.02629681 -0.01138144 -0.8271803 0.4103833 0.9999456 -5.420949\n",
       "2 100        0.01877344 -0.03663463  0.2723318 0.7860080 0.9999456 -5.696260\n",
       "3 1000       0.03458245 -0.01009304  0.7138777 0.4772012 0.9999456 -5.499530\n",
       "  ensembl_id      hgnc_symbol weight   \n",
       "1 ENSG00000156006 NAT2        0.9872027\n",
       "2 ENSG00000196839 ADA         0.9957447\n",
       "3 ENSG00000170558 CDH2        0.9897710"
      ]
     },
     "metadata": {},
     "output_type": "display_data"
    }
   ],
   "source": [
    "head(neuro_limma, 3)"
   ]
  },
  {
   "cell_type": "code",
   "execution_count": 7,
   "metadata": {},
   "outputs": [
    {
     "data": {
      "text/html": [
       "<table class=\"dataframe\">\n",
       "<caption>A data.frame: 3 × 10</caption>\n",
       "<thead>\n",
       "\t<tr><th></th><th scope=col>entrez_id</th><th scope=col>logFC</th><th scope=col>AveExpr</th><th scope=col>t</th><th scope=col>P.Value</th><th scope=col>adj.P.Val</th><th scope=col>B</th><th scope=col>ensembl_id</th><th scope=col>hgnc_symbol</th><th scope=col>weight</th></tr>\n",
       "\t<tr><th></th><th scope=col>&lt;chr&gt;</th><th scope=col>&lt;dbl&gt;</th><th scope=col>&lt;dbl&gt;</th><th scope=col>&lt;dbl&gt;</th><th scope=col>&lt;dbl&gt;</th><th scope=col>&lt;dbl&gt;</th><th scope=col>&lt;dbl&gt;</th><th scope=col>&lt;chr&gt;</th><th scope=col>&lt;chr&gt;</th><th scope=col>&lt;dbl&gt;</th></tr>\n",
       "</thead>\n",
       "<tbody>\n",
       "\t<tr><th scope=row>1</th><td>10  </td><td>0.04181197</td><td> 0.006603150</td><td>1.455833</td><td>0.148712093</td><td>0.8113781</td><td>-4.876509</td><td>ENSG00000156006</td><td>NAT2</td><td>0.9564089</td></tr>\n",
       "\t<tr><th scope=row>2</th><td>100 </td><td>0.15873173</td><td> 0.004253595</td><td>2.693407</td><td>0.008352143</td><td>0.5797387</td><td>-2.613519</td><td>ENSG00000196839</td><td>ADA </td><td>0.6486671</td></tr>\n",
       "\t<tr><th scope=row>3</th><td>1000</td><td>0.04920319</td><td>-0.003537535</td><td>1.184004</td><td>0.239344386</td><td>0.8526065</td><td>-5.202980</td><td>ENSG00000170558</td><td>CDH2</td><td>0.9742188</td></tr>\n",
       "</tbody>\n",
       "</table>\n"
      ],
      "text/latex": [
       "A data.frame: 3 × 10\n",
       "\\begin{tabular}{r|llllllllll}\n",
       "  & entrez\\_id & logFC & AveExpr & t & P.Value & adj.P.Val & B & ensembl\\_id & hgnc\\_symbol & weight\\\\\n",
       "  & <chr> & <dbl> & <dbl> & <dbl> & <dbl> & <dbl> & <dbl> & <chr> & <chr> & <dbl>\\\\\n",
       "\\hline\n",
       "\t1 & 10   & 0.04181197 &  0.006603150 & 1.455833 & 0.148712093 & 0.8113781 & -4.876509 & ENSG00000156006 & NAT2 & 0.9564089\\\\\n",
       "\t2 & 100  & 0.15873173 &  0.004253595 & 2.693407 & 0.008352143 & 0.5797387 & -2.613519 & ENSG00000196839 & ADA  & 0.6486671\\\\\n",
       "\t3 & 1000 & 0.04920319 & -0.003537535 & 1.184004 & 0.239344386 & 0.8526065 & -5.202980 & ENSG00000170558 & CDH2 & 0.9742188\\\\\n",
       "\\end{tabular}\n"
      ],
      "text/markdown": [
       "\n",
       "A data.frame: 3 × 10\n",
       "\n",
       "| <!--/--> | entrez_id &lt;chr&gt; | logFC &lt;dbl&gt; | AveExpr &lt;dbl&gt; | t &lt;dbl&gt; | P.Value &lt;dbl&gt; | adj.P.Val &lt;dbl&gt; | B &lt;dbl&gt; | ensembl_id &lt;chr&gt; | hgnc_symbol &lt;chr&gt; | weight &lt;dbl&gt; |\n",
       "|---|---|---|---|---|---|---|---|---|---|---|\n",
       "| 1 | 10   | 0.04181197 |  0.006603150 | 1.455833 | 0.148712093 | 0.8113781 | -4.876509 | ENSG00000156006 | NAT2 | 0.9564089 |\n",
       "| 2 | 100  | 0.15873173 |  0.004253595 | 2.693407 | 0.008352143 | 0.5797387 | -2.613519 | ENSG00000196839 | ADA  | 0.6486671 |\n",
       "| 3 | 1000 | 0.04920319 | -0.003537535 | 1.184004 | 0.239344386 | 0.8526065 | -5.202980 | ENSG00000170558 | CDH2 | 0.9742188 |\n",
       "\n"
      ],
      "text/plain": [
       "  entrez_id logFC      AveExpr      t        P.Value     adj.P.Val B        \n",
       "1 10        0.04181197  0.006603150 1.455833 0.148712093 0.8113781 -4.876509\n",
       "2 100       0.15873173  0.004253595 2.693407 0.008352143 0.5797387 -2.613519\n",
       "3 1000      0.04920319 -0.003537535 1.184004 0.239344386 0.8526065 -5.202980\n",
       "  ensembl_id      hgnc_symbol weight   \n",
       "1 ENSG00000156006 NAT2        0.9564089\n",
       "2 ENSG00000196839 ADA         0.6486671\n",
       "3 ENSG00000170558 CDH2        0.9742188"
      ]
     },
     "metadata": {},
     "output_type": "display_data"
    }
   ],
   "source": [
    "head(nonneuro_limma, 3)"
   ]
  },
  {
   "cell_type": "code",
   "execution_count": 8,
   "metadata": {},
   "outputs": [],
   "source": [
    "# WikiPathways from .gmt\n",
    "wp2gene <- clusterProfiler::read.gmt(file.path(DATA_DIR, \"wikipathways-20201110-gmt-Homo_sapiens.gmt\"))\n",
    "wp2gene <- wp2gene %>% tidyr::separate(term, c(\"name\",\"version\",\"wpid\",\"org\"), \"%\")\n",
    "wpid2gene <- wp2gene %>% dplyr::select(wpid,gene) #TERM2GENE\n",
    "wpid2name <- unique(wp2gene %>% dplyr::select(wpid,name)) #TERM2NAME\n",
    "\n",
    "# wp_pathways <- sapply(wp_files, getSplit)\n",
    "# names(wp_pathways) <- NULL"
   ]
  },
  {
   "cell_type": "code",
   "execution_count": 9,
   "metadata": {},
   "outputs": [
    {
     "name": "stdout",
     "output_type": "stream",
     "text": [
      "[1] 100\n",
      "[1] 200\n",
      "[1] 300\n",
      "[1] 400\n",
      "[1] 500\n",
      "    wpid  gene\n",
      "1 WP1929  2147\n",
      "2 WP1929  5595\n",
      "3 WP1929  5594\n",
      "4 WP1929  2151\n",
      "5 WP1929  2793\n",
      "6 WP1929 10681\n",
      "      wpid                                                              name\n",
      "1   WP1929 Thrombin signalling through proteinase activated receptors (PARs)\n",
      "32  WP2761             MyD88:MAL(TIRAP) cascade initiated on plasma membrane\n",
      "67  WP2768                     MyD88 dependent cascade initiated on endosome\n",
      "98  WP3549                                                         Mitophagy\n",
      "125 WP1788                                Bile acid and bile salt metabolism\n",
      "167 WP1866                             NCAM signaling for neurite out-growth\n"
     ]
    }
   ],
   "source": [
    "# If want to combine reactome information\n",
    "source(file.path(R_DIR, \"getReactome.R\"))\n",
    "wpid2gene <- rbind(wpid2gene, reactome2gene)\n",
    "wpid2name <- rbind(wpid2name, reactome2name)"
   ]
  },
  {
   "cell_type": "code",
   "execution_count": 10,
   "metadata": {},
   "outputs": [
    {
     "name": "stderr",
     "output_type": "stream",
     "text": [
      "Ensembl site unresponsive, trying uswest mirror\n",
      "\n"
     ]
    }
   ],
   "source": [
    "# create graph object, you need limma_result as an argument\n",
    "limma_result <- nonneuro_limma\n",
    "source(file.path(R_DIR, \"create_graph.R\"))\n",
    "nonneuro_g <- g\n",
    "nonneuro_merged_edge <- merged_edge\n",
    "nonneuro_merged_node <- merged_node"
   ]
  },
  {
   "cell_type": "code",
   "execution_count": 11,
   "metadata": {},
   "outputs": [],
   "source": [
    "limma_result <- neuro_limma\n",
    "source(file.path(R_DIR, \"create_graph.R\"))\n",
    "neuro_g <- g\n",
    "neuro_merged_edge <- merged_edge\n",
    "neuro_merged_node <- merged_node"
   ]
  },
  {
   "cell_type": "code",
   "execution_count": 36,
   "metadata": {},
   "outputs": [
    {
     "name": "stdout",
     "output_type": "stream",
     "text": [
      "[1] \"We are at: 0\"\n",
      "[1] \"We are at: 100\"\n"
     ]
    },
    {
     "name": "stderr",
     "output_type": "stream",
     "text": [
      "Warning message in shortest_paths(subg, one_pathway_node, another_pathway_node, :\n",
      "“At structural_properties.c:4597 :Couldn't reach some vertices”\n"
     ]
    },
    {
     "name": "stdout",
     "output_type": "stream",
     "text": [
      "[1] \"We are at: 200\"\n",
      "[1] \"We are at: 300\"\n",
      "[1] \"We are at: 400\"\n",
      "[1] \"We are at: 500\"\n",
      "[1] \"We are at: 600\"\n",
      "[1] \"We are at: 700\"\n"
     ]
    },
    {
     "name": "stderr",
     "output_type": "stream",
     "text": [
      "Warning message in shortest_paths(subg, one_pathway_node, another_pathway_node, :\n",
      "“At structural_properties.c:4597 :Couldn't reach some vertices”\n"
     ]
    },
    {
     "name": "stdout",
     "output_type": "stream",
     "text": [
      "[1] \"We are at: 800\"\n"
     ]
    },
    {
     "name": "stderr",
     "output_type": "stream",
     "text": [
      "Warning message in shortest_paths(subg, one_pathway_node, another_pathway_node, :\n",
      "“At structural_properties.c:4597 :Couldn't reach some vertices”\n"
     ]
    },
    {
     "name": "stdout",
     "output_type": "stream",
     "text": [
      "[1] \"We are at: 900\"\n",
      "[1] \"We are at: 1000\"\n"
     ]
    },
    {
     "name": "stderr",
     "output_type": "stream",
     "text": [
      "Warning message in shortest_paths(subg, one_pathway_node, another_pathway_node, :\n",
      "“At structural_properties.c:4597 :Couldn't reach some vertices”\n"
     ]
    },
    {
     "name": "stdout",
     "output_type": "stream",
     "text": [
      "[1] \"We are at: 1100\"\n"
     ]
    },
    {
     "name": "stderr",
     "output_type": "stream",
     "text": [
      "Warning message in shortest_paths(subg, one_pathway_node, another_pathway_node, :\n",
      "“At structural_properties.c:4597 :Couldn't reach some vertices”\n"
     ]
    }
   ],
   "source": [
    "# (OPTIONAL): Crude run of pathway interaction \n",
    "g <- neuro_g\n",
    "source(file.path(R_DIR, \"crude_run_pathway_interaction.R\"))\n",
    "neuro_full_paths_list <- full_paths_list"
   ]
  },
  {
   "cell_type": "code",
   "execution_count": 12,
   "metadata": {},
   "outputs": [],
   "source": [
    "# sel_wp <- subset(neuro_pval_df, pvalue<0.05)$wpid\n",
    "# sel_wp denotes a vector of wpids.\n",
    "# can use either p-value or random lists as below\n",
    "sel_wp <- wpid2name$wpid[1:50]\n",
    "g <- neuro_g\n",
    "source(file.path(R_DIR, \"collect_final_result.R\"))\n",
    "neuro_sel_path_df <- sel_path_df"
   ]
  },
  {
   "cell_type": "code",
   "execution_count": 13,
   "metadata": {},
   "outputs": [
    {
     "data": {
      "text/html": [
       "<table class=\"dataframe\">\n",
       "<caption>A tibble: 6 × 2</caption>\n",
       "<thead>\n",
       "\t<tr><th scope=col>source</th><th scope=col>target</th></tr>\n",
       "\t<tr><th scope=col>&lt;chr&gt;</th><th scope=col>&lt;chr&gt;</th></tr>\n",
       "</thead>\n",
       "<tbody>\n",
       "\t<tr><td>WP4657</td><td>1399 </td></tr>\n",
       "\t<tr><td>1399  </td><td>5159 </td></tr>\n",
       "\t<tr><td>5159  </td><td>1901 </td></tr>\n",
       "\t<tr><td>1901  </td><td>WP117</td></tr>\n",
       "\t<tr><td>WP4657</td><td>1399 </td></tr>\n",
       "\t<tr><td>1399  </td><td>5159 </td></tr>\n",
       "</tbody>\n",
       "</table>\n"
      ],
      "text/latex": [
       "A tibble: 6 × 2\n",
       "\\begin{tabular}{ll}\n",
       " source & target\\\\\n",
       " <chr> & <chr>\\\\\n",
       "\\hline\n",
       "\t WP4657 & 1399 \\\\\n",
       "\t 1399   & 5159 \\\\\n",
       "\t 5159   & 1901 \\\\\n",
       "\t 1901   & WP117\\\\\n",
       "\t WP4657 & 1399 \\\\\n",
       "\t 1399   & 5159 \\\\\n",
       "\\end{tabular}\n"
      ],
      "text/markdown": [
       "\n",
       "A tibble: 6 × 2\n",
       "\n",
       "| source &lt;chr&gt; | target &lt;chr&gt; |\n",
       "|---|---|\n",
       "| WP4657 | 1399  |\n",
       "| 1399   | 5159  |\n",
       "| 5159   | 1901  |\n",
       "| 1901   | WP117 |\n",
       "| WP4657 | 1399  |\n",
       "| 1399   | 5159  |\n",
       "\n"
      ],
      "text/plain": [
       "  source target\n",
       "1 WP4657 1399  \n",
       "2 1399   5159  \n",
       "3 5159   1901  \n",
       "4 1901   WP117 \n",
       "5 WP4657 1399  \n",
       "6 1399   5159  "
      ]
     },
     "metadata": {},
     "output_type": "display_data"
    }
   ],
   "source": [
    "head(sel_path_df)"
   ]
  },
  {
   "cell_type": "code",
   "execution_count": 14,
   "metadata": {},
   "outputs": [
    {
     "data": {
      "text/html": [
       "43"
      ],
      "text/latex": [
       "43"
      ],
      "text/markdown": [
       "43"
      ],
      "text/plain": [
       "[1] 43"
      ]
     },
     "metadata": {},
     "output_type": "display_data"
    }
   ],
   "source": [
    "# one functino to count the number of genes in the path collection\n",
    "getNumGenes <- function(input_df, wp_tobe_rm=wpid2name$wpid){\n",
    "  # Calculate number of genes from\n",
    "  # sel_path_df data frame\n",
    "  input_nodes <- unique(c(input_df$source, input_df$target))\n",
    "  filtered_genes <- setdiff(input_nodes, wp_tobe_rm)\n",
    "  return(length(filtered_genes))\n",
    "}\n",
    "getNumGenes(sel_path_df)"
   ]
  },
  {
   "cell_type": "code",
   "execution_count": 51,
   "metadata": {},
   "outputs": [
    {
     "name": "stderr",
     "output_type": "stream",
     "text": [
      "You are connected to Cytoscape!\n",
      "\n",
      "Loading data...\n",
      "\n",
      "\n",
      "Applying default style...\n",
      "\n",
      "\n",
      "Applying preferred layout...\n",
      "\n",
      "\n",
      "Loading data...\n",
      "\n",
      "\n",
      "Applying default style...\n",
      "\n",
      "\n",
      "Applying preferred layout...\n",
      "\n",
      "\n",
      "style.name not specified, so updating \"default\" style.\n",
      "\n"
     ]
    }
   ],
   "source": [
    "sel_path_df <- neuro_sel_path_df\n",
    "merged_node <- neuro_merged_node\n",
    "limma_result <- neuro_limma\n",
    "one_prefix <- \"Neuro\"\n",
    "source(file.path(R_DIR, \"visualize_path.R\"))\n",
    "neuro_interaction_g <- interaction_g\n",
    "neuro_interaction_subg <- interaction_subg"
   ]
  },
  {
   "cell_type": "code",
   "execution_count": 48,
   "metadata": {},
   "outputs": [],
   "source": [
    "input_edge_df=sel_path_df\n",
    "orig_node_df=merged_node\n",
    "pathway_info=wpid2name"
   ]
  },
  {
   "cell_type": "code",
   "execution_count": 49,
   "metadata": {},
   "outputs": [],
   "source": [
    "path_edge_df <- input_edge_df[!duplicated(input_edge_df),]\n",
    "path_edge_mat <- apply(path_edge_df, 2, function(x) getOneRowName(x))\n",
    "edge_df <- as.data.frame(path_edge_mat)\n",
    "path_nodes <- unique(c(path_edge_df$source, path_edge_df$target))\n",
    "node_df <- subset(orig_node_df, name %in% path_nodes)\n",
    "rownames(node_df) <- NULL\n",
    "colnames(node_df) <- c(\"entrez\", \"ensembl\", \"hgnc_symbol\", \"weight\", \"type\")\n",
    "node_df$desc <- sapply(node_df$entrez, function(x) getDesc(one_row=node_df[node_df$entrez==x,], path_info=pathway_info))\n",
    "node_df$name <- ifelse(node_df$type==\"gene_product\", node_df$hgnc_symbol, node_df$entrez)\n",
    "node_df <- node_df[,c(\"name\", \"entrez\", \"ensembl\", \"weight\", \"type\")]\n",
    "# create iGraph object\n",
    "res_g <- graph_from_data_frame(edge_df,\n",
    "                             directed=TRUE,\n",
    "                             vertices=node_df)\n",
    "undirect_res_g <- as.undirected(res_g, mode=\"collapse\")"
   ]
  },
  {
   "cell_type": "code",
   "execution_count": 50,
   "metadata": {},
   "outputs": [],
   "source": [
    "interaction_g <- preparePathViz(input_edge_df=sel_path_df,\n",
    "                                orig_node_df=merged_node,\n",
    "                                pathway_info=wpid2name)"
   ]
  },
  {
   "cell_type": "code",
   "execution_count": null,
   "metadata": {},
   "outputs": [],
   "source": []
  },
  {
   "cell_type": "code",
   "execution_count": null,
   "metadata": {},
   "outputs": [],
   "source": []
  },
  {
   "cell_type": "code",
   "execution_count": 46,
   "metadata": {},
   "outputs": [
    {
     "data": {
      "text/html": [
       "<table class=\"dataframe\">\n",
       "<caption>A tibble: 216 × 2</caption>\n",
       "<thead>\n",
       "\t<tr><th scope=col>source</th><th scope=col>target</th></tr>\n",
       "\t<tr><th scope=col>&lt;chr&gt;</th><th scope=col>&lt;chr&gt;</th></tr>\n",
       "</thead>\n",
       "<tbody>\n",
       "\t<tr><td>WP4657</td><td>1399  </td></tr>\n",
       "\t<tr><td>1399  </td><td>5159  </td></tr>\n",
       "\t<tr><td>5159  </td><td>1901  </td></tr>\n",
       "\t<tr><td>1901  </td><td>WP117 </td></tr>\n",
       "\t<tr><td>WP4657</td><td>1399  </td></tr>\n",
       "\t<tr><td>1399  </td><td>5159  </td></tr>\n",
       "\t<tr><td>5159  </td><td>3690  </td></tr>\n",
       "\t<tr><td>3690  </td><td>WP12  </td></tr>\n",
       "\t<tr><td>WP4657</td><td>1399  </td></tr>\n",
       "\t<tr><td>1399  </td><td>9402  </td></tr>\n",
       "\t<tr><td>9402  </td><td>5295  </td></tr>\n",
       "\t<tr><td>5295  </td><td>WP127 </td></tr>\n",
       "\t<tr><td>WP4657</td><td>1399  </td></tr>\n",
       "\t<tr><td>1399  </td><td>5159  </td></tr>\n",
       "\t<tr><td>5159  </td><td>6772  </td></tr>\n",
       "\t<tr><td>6772  </td><td>WP127 </td></tr>\n",
       "\t<tr><td>WP4657</td><td>1399  </td></tr>\n",
       "\t<tr><td>1399  </td><td>9402  </td></tr>\n",
       "\t<tr><td>9402  </td><td>5295  </td></tr>\n",
       "\t<tr><td>5295  </td><td>WP138 </td></tr>\n",
       "\t<tr><td>WP4657</td><td>1399  </td></tr>\n",
       "\t<tr><td>1399  </td><td>5159  </td></tr>\n",
       "\t<tr><td>5159  </td><td>6774  </td></tr>\n",
       "\t<tr><td>6774  </td><td>WP138 </td></tr>\n",
       "\t<tr><td>WP4657</td><td>1399  </td></tr>\n",
       "\t<tr><td>1399  </td><td>9402  </td></tr>\n",
       "\t<tr><td>9402  </td><td>5295  </td></tr>\n",
       "\t<tr><td>5295  </td><td>WP1403</td></tr>\n",
       "\t<tr><td>WP4657</td><td>1399  </td></tr>\n",
       "\t<tr><td>1399  </td><td>5159  </td></tr>\n",
       "\t<tr><td>⋮</td><td>⋮</td></tr>\n",
       "\t<tr><td>8773  </td><td>3683  </td></tr>\n",
       "\t<tr><td>3683  </td><td>WP185 </td></tr>\n",
       "\t<tr><td>WP4657</td><td>1312  </td></tr>\n",
       "\t<tr><td>1312  </td><td>221   </td></tr>\n",
       "\t<tr><td>221   </td><td>3683  </td></tr>\n",
       "\t<tr><td>3683  </td><td>WP185 </td></tr>\n",
       "\t<tr><td>WP4657</td><td>9342  </td></tr>\n",
       "\t<tr><td>9342  </td><td>6616  </td></tr>\n",
       "\t<tr><td>6616  </td><td>3683  </td></tr>\n",
       "\t<tr><td>3683  </td><td>WP185 </td></tr>\n",
       "\t<tr><td>WP4657</td><td>9342  </td></tr>\n",
       "\t<tr><td>9342  </td><td>326624</td></tr>\n",
       "\t<tr><td>326624</td><td>3683  </td></tr>\n",
       "\t<tr><td>3683  </td><td>WP185 </td></tr>\n",
       "\t<tr><td>WP4657</td><td>9342  </td></tr>\n",
       "\t<tr><td>9342  </td><td>10043 </td></tr>\n",
       "\t<tr><td>10043 </td><td>3683  </td></tr>\n",
       "\t<tr><td>3683  </td><td>WP185 </td></tr>\n",
       "\t<tr><td>WP4657</td><td>9342  </td></tr>\n",
       "\t<tr><td>9342  </td><td>719   </td></tr>\n",
       "\t<tr><td>719   </td><td>3683  </td></tr>\n",
       "\t<tr><td>3683  </td><td>WP185 </td></tr>\n",
       "\t<tr><td>WP4657</td><td>7122  </td></tr>\n",
       "\t<tr><td>7122  </td><td>865   </td></tr>\n",
       "\t<tr><td>865   </td><td>3683  </td></tr>\n",
       "\t<tr><td>3683  </td><td>WP185 </td></tr>\n",
       "\t<tr><td>WP4657</td><td>1399  </td></tr>\n",
       "\t<tr><td>1399  </td><td>5159  </td></tr>\n",
       "\t<tr><td>5159  </td><td>3690  </td></tr>\n",
       "\t<tr><td>3690  </td><td>WP185 </td></tr>\n",
       "</tbody>\n",
       "</table>\n"
      ],
      "text/latex": [
       "A tibble: 216 × 2\n",
       "\\begin{tabular}{ll}\n",
       " source & target\\\\\n",
       " <chr> & <chr>\\\\\n",
       "\\hline\n",
       "\t WP4657 & 1399  \\\\\n",
       "\t 1399   & 5159  \\\\\n",
       "\t 5159   & 1901  \\\\\n",
       "\t 1901   & WP117 \\\\\n",
       "\t WP4657 & 1399  \\\\\n",
       "\t 1399   & 5159  \\\\\n",
       "\t 5159   & 3690  \\\\\n",
       "\t 3690   & WP12  \\\\\n",
       "\t WP4657 & 1399  \\\\\n",
       "\t 1399   & 9402  \\\\\n",
       "\t 9402   & 5295  \\\\\n",
       "\t 5295   & WP127 \\\\\n",
       "\t WP4657 & 1399  \\\\\n",
       "\t 1399   & 5159  \\\\\n",
       "\t 5159   & 6772  \\\\\n",
       "\t 6772   & WP127 \\\\\n",
       "\t WP4657 & 1399  \\\\\n",
       "\t 1399   & 9402  \\\\\n",
       "\t 9402   & 5295  \\\\\n",
       "\t 5295   & WP138 \\\\\n",
       "\t WP4657 & 1399  \\\\\n",
       "\t 1399   & 5159  \\\\\n",
       "\t 5159   & 6774  \\\\\n",
       "\t 6774   & WP138 \\\\\n",
       "\t WP4657 & 1399  \\\\\n",
       "\t 1399   & 9402  \\\\\n",
       "\t 9402   & 5295  \\\\\n",
       "\t 5295   & WP1403\\\\\n",
       "\t WP4657 & 1399  \\\\\n",
       "\t 1399   & 5159  \\\\\n",
       "\t ⋮ & ⋮\\\\\n",
       "\t 8773   & 3683  \\\\\n",
       "\t 3683   & WP185 \\\\\n",
       "\t WP4657 & 1312  \\\\\n",
       "\t 1312   & 221   \\\\\n",
       "\t 221    & 3683  \\\\\n",
       "\t 3683   & WP185 \\\\\n",
       "\t WP4657 & 9342  \\\\\n",
       "\t 9342   & 6616  \\\\\n",
       "\t 6616   & 3683  \\\\\n",
       "\t 3683   & WP185 \\\\\n",
       "\t WP4657 & 9342  \\\\\n",
       "\t 9342   & 326624\\\\\n",
       "\t 326624 & 3683  \\\\\n",
       "\t 3683   & WP185 \\\\\n",
       "\t WP4657 & 9342  \\\\\n",
       "\t 9342   & 10043 \\\\\n",
       "\t 10043  & 3683  \\\\\n",
       "\t 3683   & WP185 \\\\\n",
       "\t WP4657 & 9342  \\\\\n",
       "\t 9342   & 719   \\\\\n",
       "\t 719    & 3683  \\\\\n",
       "\t 3683   & WP185 \\\\\n",
       "\t WP4657 & 7122  \\\\\n",
       "\t 7122   & 865   \\\\\n",
       "\t 865    & 3683  \\\\\n",
       "\t 3683   & WP185 \\\\\n",
       "\t WP4657 & 1399  \\\\\n",
       "\t 1399   & 5159  \\\\\n",
       "\t 5159   & 3690  \\\\\n",
       "\t 3690   & WP185 \\\\\n",
       "\\end{tabular}\n"
      ],
      "text/markdown": [
       "\n",
       "A tibble: 216 × 2\n",
       "\n",
       "| source &lt;chr&gt; | target &lt;chr&gt; |\n",
       "|---|---|\n",
       "| WP4657 | 1399   |\n",
       "| 1399   | 5159   |\n",
       "| 5159   | 1901   |\n",
       "| 1901   | WP117  |\n",
       "| WP4657 | 1399   |\n",
       "| 1399   | 5159   |\n",
       "| 5159   | 3690   |\n",
       "| 3690   | WP12   |\n",
       "| WP4657 | 1399   |\n",
       "| 1399   | 9402   |\n",
       "| 9402   | 5295   |\n",
       "| 5295   | WP127  |\n",
       "| WP4657 | 1399   |\n",
       "| 1399   | 5159   |\n",
       "| 5159   | 6772   |\n",
       "| 6772   | WP127  |\n",
       "| WP4657 | 1399   |\n",
       "| 1399   | 9402   |\n",
       "| 9402   | 5295   |\n",
       "| 5295   | WP138  |\n",
       "| WP4657 | 1399   |\n",
       "| 1399   | 5159   |\n",
       "| 5159   | 6774   |\n",
       "| 6774   | WP138  |\n",
       "| WP4657 | 1399   |\n",
       "| 1399   | 9402   |\n",
       "| 9402   | 5295   |\n",
       "| 5295   | WP1403 |\n",
       "| WP4657 | 1399   |\n",
       "| 1399   | 5159   |\n",
       "| ⋮ | ⋮ |\n",
       "| 8773   | 3683   |\n",
       "| 3683   | WP185  |\n",
       "| WP4657 | 1312   |\n",
       "| 1312   | 221    |\n",
       "| 221    | 3683   |\n",
       "| 3683   | WP185  |\n",
       "| WP4657 | 9342   |\n",
       "| 9342   | 6616   |\n",
       "| 6616   | 3683   |\n",
       "| 3683   | WP185  |\n",
       "| WP4657 | 9342   |\n",
       "| 9342   | 326624 |\n",
       "| 326624 | 3683   |\n",
       "| 3683   | WP185  |\n",
       "| WP4657 | 9342   |\n",
       "| 9342   | 10043  |\n",
       "| 10043  | 3683   |\n",
       "| 3683   | WP185  |\n",
       "| WP4657 | 9342   |\n",
       "| 9342   | 719    |\n",
       "| 719    | 3683   |\n",
       "| 3683   | WP185  |\n",
       "| WP4657 | 7122   |\n",
       "| 7122   | 865    |\n",
       "| 865    | 3683   |\n",
       "| 3683   | WP185  |\n",
       "| WP4657 | 1399   |\n",
       "| 1399   | 5159   |\n",
       "| 5159   | 3690   |\n",
       "| 3690   | WP185  |\n",
       "\n"
      ],
      "text/plain": [
       "    source target\n",
       "1   WP4657 1399  \n",
       "2   1399   5159  \n",
       "3   5159   1901  \n",
       "4   1901   WP117 \n",
       "5   WP4657 1399  \n",
       "6   1399   5159  \n",
       "7   5159   3690  \n",
       "8   3690   WP12  \n",
       "9   WP4657 1399  \n",
       "10  1399   9402  \n",
       "11  9402   5295  \n",
       "12  5295   WP127 \n",
       "13  WP4657 1399  \n",
       "14  1399   5159  \n",
       "15  5159   6772  \n",
       "16  6772   WP127 \n",
       "17  WP4657 1399  \n",
       "18  1399   9402  \n",
       "19  9402   5295  \n",
       "20  5295   WP138 \n",
       "21  WP4657 1399  \n",
       "22  1399   5159  \n",
       "23  5159   6774  \n",
       "24  6774   WP138 \n",
       "25  WP4657 1399  \n",
       "26  1399   9402  \n",
       "27  9402   5295  \n",
       "28  5295   WP1403\n",
       "29  WP4657 1399  \n",
       "30  1399   5159  \n",
       "⋮   ⋮      ⋮     \n",
       "187 8773   3683  \n",
       "188 3683   WP185 \n",
       "189 WP4657 1312  \n",
       "190 1312   221   \n",
       "191 221    3683  \n",
       "192 3683   WP185 \n",
       "193 WP4657 9342  \n",
       "194 9342   6616  \n",
       "195 6616   3683  \n",
       "196 3683   WP185 \n",
       "197 WP4657 9342  \n",
       "198 9342   326624\n",
       "199 326624 3683  \n",
       "200 3683   WP185 \n",
       "201 WP4657 9342  \n",
       "202 9342   10043 \n",
       "203 10043  3683  \n",
       "204 3683   WP185 \n",
       "205 WP4657 9342  \n",
       "206 9342   719   \n",
       "207 719    3683  \n",
       "208 3683   WP185 \n",
       "209 WP4657 7122  \n",
       "210 7122   865   \n",
       "211 865    3683  \n",
       "212 3683   WP185 \n",
       "213 WP4657 1399  \n",
       "214 1399   5159  \n",
       "215 5159   3690  \n",
       "216 3690   WP185 "
      ]
     },
     "metadata": {},
     "output_type": "display_data"
    }
   ],
   "source": [
    "sel_path_df"
   ]
  },
  {
   "cell_type": "code",
   "execution_count": null,
   "metadata": {},
   "outputs": [],
   "source": []
  }
 ],
 "metadata": {
  "kernelspec": {
   "display_name": "R",
   "language": "R",
   "name": "ir"
  },
  "language_info": {
   "codemirror_mode": "r",
   "file_extension": ".r",
   "mimetype": "text/x-r-source",
   "name": "R",
   "pygments_lexer": "r",
   "version": "4.0.3"
  }
 },
 "nbformat": 4,
 "nbformat_minor": 4
}
